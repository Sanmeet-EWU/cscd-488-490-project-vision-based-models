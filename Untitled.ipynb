{
 "cells": [
  {
   "cell_type": "code",
   "id": "9a0e44ab-d168-4e49-af79-48fa45933596",
   "metadata": {
    "ExecuteTime": {
     "end_time": "2024-11-20T22:05:18.043039Z",
     "start_time": "2024-11-20T22:05:18.039501Z"
    }
   },
   "source": [
    "import torch\n",
    "import clip\n",
    "from PIL import Image\n",
    "from torch.utils.data import DataLoader, Dataset\n",
    "from torchvision import transforms\n",
    "import glob\n",
    "import os\n"
   ],
   "outputs": [],
   "execution_count": 2
  },
  {
   "cell_type": "code",
   "id": "7c5738fd-fc5c-48f5-bff5-85d3ca291603",
   "metadata": {
    "ExecuteTime": {
     "end_time": "2024-11-20T22:05:52.585822Z",
     "start_time": "2024-11-20T22:05:52.579904Z"
    }
   },
   "source": [
    "def download_dataset():\n",
    "    dataset_path = './plants-classification'\n",
    "\n",
    "    if not os.path.exists(dataset_path):\n",
    "        #os.environ['KAGGLE_USERNAME'] = 'yon***oon'\n",
    "        #os.environ['KAGGLE_KEY'] = '929a975ada6ec3c**5f22***'\n",
    "\n",
    "\n",
    "        # Download and unzip dataset using Kaggle\n",
    "        #os.system('pip install kaggle')\n",
    "        #os.system('kaggle datasets download -d marquis03/plants-classification --unzip -p ./plants-classification')\n",
    "\n",
    "        print(\"Dataset downloaded.\")\n",
    "    else:\n",
    "        print(\"Dataset already exists. Skipping download.\")\n",
    "\n",
    "    return dataset_path\n"
   ],
   "outputs": [],
   "execution_count": 3
  },
  {
   "cell_type": "code",
   "execution_count": null,
   "id": "32292985-c502-4792-8c7b-1187cb66e7d5",
   "metadata": {},
   "outputs": [],
   "source": [
    "def get_class_names(dataset_path):\n",
    "\n",
    "    class_names = [\"guava\", \"ginger\", \"soybeans\"]\n",
    "   # candidate_captions = [f\"{cls}\" for cls in class_names]\n",
    "    prompt = [f\"A picture of {cls}\" for cls in class_names]\n",
    "    print(f\"Selected classes: {class_names}\")\n",
    "    print(f\"Candidate captions: {prompt}\")\n",
    "\n",
    "    return class_names, prompt"
   ]
  },
  {
   "cell_type": "code",
   "execution_count": null,
   "id": "f4d11911-7f82-472e-996d-614b9037847c",
   "metadata": {},
   "outputs": [],
   "source": [
    "class ImageDataset(Dataset):\n",
    "    def __init__(self, image_paths, transform):\n",
    "        self.image_paths = image_paths\n",
    "        self.transform = transform\n",
    "\n",
    "    def __len__(self):\n",
    "        return len(self.image_paths)\n",
    "\n",
    "    def __getitem__(self, idx):\n",
    "        image = Image.open(self.image_paths[idx]).convert(\"RGB\")\n",
    "        return self.transform(image), self.image_paths[idx]\n"
   ]
  },
  {
   "cell_type": "code",
   "execution_count": null,
   "id": "b0b852ec-639a-4803-b9cb-a30533b6560c",
   "metadata": {},
   "outputs": [],
   "source": [
    "def load_images(dataset_path, class_names):\n",
    "    test_images = []\n",
    "\n",
    "\n",
    "    for cls in class_names:\n",
    "        test_images.extend(glob.glob(os.path.join(dataset_path, 'test', cls, '*.jpg')))\n",
    "\n",
    "    print(f\"Total test images: {len(test_images)}\")\n",
    "\n",
    "\n",
    "    transform = transforms.Compose([\n",
    "        transforms.Resize((224, 224)),\n",
    "        transforms.ToTensor(),\n",
    "        transforms.Normalize((0.48145466, 0.4578275, 0.40821073), (0.26862954, 0.26130258, 0.27577711))\n",
    "    ])\n",
    "\n",
    "\n",
    "    dataset = ImageDataset(test_images, transform)\n",
    "    return DataLoader(dataset, batch_size=8, shuffle=False)\n"
   ]
  },
  {
   "cell_type": "code",
   "execution_count": null,
   "id": "ee3d85da-cae4-4ff0-80dc-ad691a0af041",
   "metadata": {},
   "outputs": [],
   "source": [
    "def load_clip_model(device):\n",
    "    model, _ = clip.load(\"ViT-B/32\", device=device)\n",
    "    return model\n",
    "\n"
   ]
  },
  {
   "cell_type": "code",
   "execution_count": null,
   "id": "ff6b5a97-4b40-4eb9-8261-61796d84ebbd",
   "metadata": {},
   "outputs": [],
   "source": [
    "def evaluate_model(dataloader, model, class_names, text_features, device):\n",
    "    correct = 0\n",
    "    total = 0\n",
    "\n",
    "    for images, image_paths in dataloader:\n",
    "        images = images.to(device)\n",
    "\n",
    "        with torch.no_grad():\n",
    "            image_features = model.encode_image(images)\n",
    "            logits_per_image = image_features @ text_features.T\n",
    "            probs = logits_per_image.softmax(dim=-1).cpu().numpy()\n",
    "\n",
    "        # loop through each image and compare prediction with true class\n",
    "        for i, img_path in enumerate(image_paths):\n",
    "            pred = class_names[probs[i].argmax()]\n",
    "            true_class = os.path.basename(os.path.dirname(img_path))\n",
    "\n",
    "            # count correct predictions\n",
    "            correct += (pred == true_class)\n",
    "            total += 1\n",
    "\n",
    "    accuracy = correct / total if total > 0 else 0\n",
    "    print(f'Overall accuracy: {accuracy:.2f}')"
   ]
  },
  {
   "cell_type": "code",
   "execution_count": null,
   "id": "c914000c-4bf5-4c75-8c33-660acd49f3a6",
   "metadata": {},
   "outputs": [],
   "source": [
    "def main():\n",
    "    #get data set\n",
    "    dataset_path = download_dataset()\n",
    "\n",
    "    # load class\n",
    "    class_names, candidate_captions = get_class_names(dataset_path)\n",
    "\n",
    "\n",
    "    dataloader = load_images(dataset_path, class_names)\n",
    "\n",
    "    device = \"cuda\" if torch.cuda.is_available() else \"cpu\"  #\n",
    "    model = load_clip_model(device)\n",
    "\n",
    "    # encode text prompts\n",
    "    text_tokens = clip.tokenize(candidate_captions).to(device)  # tokenize the prompt and move to the device\n",
    "    with torch.no_grad():\n",
    "        text_features = model.encode_text(text_tokens)  # Encode the text features using CLIP model\n",
    "\n",
    "\n",
    "    evaluate_model(dataloader, model, class_names, text_features, device)\n"
   ]
  },
  {
   "cell_type": "code",
   "execution_count": null,
   "id": "99a482c1-28a4-4401-ad7d-cba6f6e95356",
   "metadata": {},
   "outputs": [],
   "source": [
    "if __name__ == \"__main__\":\n",
    "    main()\n"
   ]
  }
 ],
 "metadata": {
  "kernelspec": {
   "display_name": "Python 3 (ipykernel)",
   "language": "python",
   "name": "python3"
  },
  "language_info": {
   "codemirror_mode": {
    "name": "ipython",
    "version": 3
   },
   "file_extension": ".py",
   "mimetype": "text/x-python",
   "name": "python",
   "nbconvert_exporter": "python",
   "pygments_lexer": "ipython3",
   "version": "3.11.7"
  }
 },
 "nbformat": 4,
 "nbformat_minor": 5
}
